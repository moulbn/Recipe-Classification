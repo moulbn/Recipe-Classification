{
 "cells": [
  {
   "cell_type": "markdown",
   "id": "32d356b3",
   "metadata": {},
   "source": [
    "# Analysis"
   ]
  },
  {
   "cell_type": "code",
   "execution_count": 195,
   "id": "2289bfbd",
   "metadata": {},
   "outputs": [],
   "source": [
    "import numpy as np\n",
    "import pvml\n",
    "import pandas as pd\n",
    "from sklearn.linear_model import LogisticRegression\n",
    "from sklearn import svm\n",
    "from sklearn.neural_network import MLPClassifier\n",
    "import seaborn as sn"
   ]
  },
  {
   "cell_type": "markdown",
   "id": "b991555a",
   "metadata": {},
   "source": [
    "# Data"
   ]
  },
  {
   "cell_type": "markdown",
   "id": "45a3f31e",
   "metadata": {},
   "source": [
    "#### Train"
   ]
  },
  {
   "cell_type": "code",
   "execution_count": 2,
   "id": "e2c0f739",
   "metadata": {},
   "outputs": [
    {
     "name": "stdout",
     "output_type": "stream",
     "text": [
      "Train Data Loaded\n"
     ]
    }
   ],
   "source": [
    "train_data = np.loadtxt(\"train_bow.txt.gz\")\n",
    "X_train = train_data[:, :-1]\n",
    "Y_train = train_data[:, -1]\n",
    "\n",
    "print(\"Train Data Loaded\")"
   ]
  },
  {
   "cell_type": "markdown",
   "id": "6c7541b2",
   "metadata": {},
   "source": [
    "#### Test"
   ]
  },
  {
   "cell_type": "code",
   "execution_count": 3,
   "id": "976f0e69",
   "metadata": {
    "scrolled": true
   },
   "outputs": [
    {
     "name": "stdout",
     "output_type": "stream",
     "text": [
      "Test Data Loaded\n"
     ]
    }
   ],
   "source": [
    "test_data = np.loadtxt(\"test_bow.txt.gz\")\n",
    "X_test = test_data[:, :-1]\n",
    "Y_test = test_data[:, -1]\n",
    "\n",
    "print(\"Test Data Loaded\")"
   ]
  },
  {
   "cell_type": "markdown",
   "id": "7ea66de1",
   "metadata": {},
   "source": [
    "#### Scaled Data"
   ]
  },
  {
   "cell_type": "code",
   "execution_count": null,
   "id": "5485ab99",
   "metadata": {},
   "outputs": [],
   "source": [
    "scaler = StandardScaler()\n",
    "scaler.fit(X_train_scaled)\n",
    "\n",
    "X_train_scaled_scaled = scaler.transform(X_train_scaled)\n",
    "X_test_scaled_scaled = scaler.transform(X_test_scaled)"
   ]
  },
  {
   "cell_type": "markdown",
   "id": "2ec9d1e8",
   "metadata": {},
   "source": [
    "# I. Logistic Regression"
   ]
  },
  {
   "cell_type": "code",
   "execution_count": 6,
   "id": "2af3b901",
   "metadata": {},
   "outputs": [],
   "source": [
    "logreg = LogisticRegression(\n",
    "    random_state=0,\n",
    "    solver='liblinear'\n",
    ").fit(X_train, Y_train)"
   ]
  },
  {
   "cell_type": "markdown",
   "id": "5d36c42a",
   "metadata": {},
   "source": [
    "#### Accuracies"
   ]
  },
  {
   "cell_type": "code",
   "execution_count": 9,
   "id": "a59ee65e",
   "metadata": {},
   "outputs": [
    {
     "name": "stdout",
     "output_type": "stream",
     "text": [
      "Logistic Regression Train Accuracy: 92.906%\n"
     ]
    }
   ],
   "source": [
    "logreg_train_predictions = logreg.predict(X_train)\n",
    "logreg_train_accuracy = round(\n",
    "    (logreg_train_predictions == Y_train).mean(),\n",
    "    5\n",
    ")\n",
    "\n",
    "print(f\"Logistic Regression Train Accuracy: {logreg_train_accuracy * 100}%\")"
   ]
  },
  {
   "cell_type": "code",
   "execution_count": 10,
   "id": "e1ebdf2b",
   "metadata": {},
   "outputs": [
    {
     "name": "stdout",
     "output_type": "stream",
     "text": [
      "Logistic Regression test Accuracy: 69.476%\n"
     ]
    }
   ],
   "source": [
    "logreg_test_predictions = logreg.predict(X_test)\n",
    "logreg_test_accuracy = round(\n",
    "    (logreg_test_predictions == Y_test).mean(),\n",
    "    5\n",
    ")\n",
    "\n",
    "print(f\"Logistic Regression test Accuracy: {logreg_test_accuracy * 100}%\")"
   ]
  },
  {
   "cell_type": "markdown",
   "id": "2f5a7dae",
   "metadata": {},
   "source": [
    "# II. SVM"
   ]
  },
  {
   "cell_type": "code",
   "execution_count": 11,
   "id": "78399ee2",
   "metadata": {},
   "outputs": [],
   "source": [
    "linear_svm = svm.LinearSVC(max_iter=10000, dual=False).fit(X_train, Y_train)"
   ]
  },
  {
   "cell_type": "markdown",
   "id": "553343f7",
   "metadata": {},
   "source": [
    "#### Accuracies"
   ]
  },
  {
   "cell_type": "code",
   "execution_count": 13,
   "id": "89bf1f1c",
   "metadata": {},
   "outputs": [
    {
     "name": "stdout",
     "output_type": "stream",
     "text": [
      "Linear SVM Train Accuracy: 95.104%\n"
     ]
    }
   ],
   "source": [
    "linear_svm_train_predictions = linear_svm.predict(X_train)\n",
    "linear_svm_train_accuracy = round(\n",
    "    (linear_svm_train_predictions == Y_train).mean(),\n",
    "    5\n",
    ")\n",
    "\n",
    "print(f\"Linear SVM Train Accuracy: {linear_svm_train_accuracy * 100}%\")"
   ]
  },
  {
   "cell_type": "code",
   "execution_count": 14,
   "id": "cc5c2279",
   "metadata": {},
   "outputs": [
    {
     "name": "stdout",
     "output_type": "stream",
     "text": [
      "Linear SVM Test Accuracy: 66.167%\n"
     ]
    }
   ],
   "source": [
    "linear_svm_test_predictions = linear_svm.predict(X_test)\n",
    "linear_svm_test_accuracy = round(\n",
    "    (linear_svm_test_predictions == Y_test).mean(),\n",
    "    5\n",
    ")\n",
    "\n",
    "print(f\"Linear SVM Test Accuracy: {linear_svm_test_accuracy * 100}%\")"
   ]
  },
  {
   "cell_type": "markdown",
   "id": "5e119e8a",
   "metadata": {},
   "source": [
    "# III. Multiclass SVM"
   ]
  },
  {
   "cell_type": "code",
   "execution_count": 34,
   "id": "ba99354f",
   "metadata": {},
   "outputs": [],
   "source": [
    "multi_svm_w, multi_svm_b = pvml.multiclass_svm.one_vs_rest_svm_train(\n",
    "    X_train,\n",
    "    Y_train,\n",
    "    lambda_=0,\n",
    "    steps=5000\n",
    ")"
   ]
  },
  {
   "cell_type": "markdown",
   "id": "83abe4dd",
   "metadata": {},
   "source": [
    "#### Accuracies"
   ]
  },
  {
   "cell_type": "code",
   "execution_count": 44,
   "id": "55e5cb50",
   "metadata": {},
   "outputs": [
    {
     "name": "stdout",
     "output_type": "stream",
     "text": [
      "Multiclass SVM Train accuracy : 73.729%\n"
     ]
    }
   ],
   "source": [
    "multiclass_svm_train_scores = pvml.multiclass_svm.one_vs_rest_svm_inference(\n",
    "    X_train,\n",
    "    W=multi_svm_w,\n",
    "    b=multi_svm_b\n",
    ")\n",
    "multiclass_svm_train_accuracy = round(\n",
    "    (Y_train == multiclass_svm_train_scores[0]).mean(),\n",
    "    5\n",
    ")\n",
    "\n",
    "print(f\"Multiclass SVM Train accuracy : {multiclass_svm_train_accuracy * 100}%\")"
   ]
  },
  {
   "cell_type": "code",
   "execution_count": 45,
   "id": "34a0c223",
   "metadata": {},
   "outputs": [
    {
     "name": "stdout",
     "output_type": "stream",
     "text": [
      "Multiclass SVM Test accuracy : 69.101%\n"
     ]
    }
   ],
   "source": [
    "multiclass_svm_test_scores = pvml.multiclass_svm.one_vs_rest_svm_inference(\n",
    "    X_test,\n",
    "    W=multi_svm_w,\n",
    "    b=multi_svm_b\n",
    ")\n",
    "multiclass_svm_test_accuracy = round(\n",
    "    (Y_test == multiclass_svm_test_scores[0]).mean(),\n",
    "    5\n",
    ")\n",
    "\n",
    "print(f\"Multiclass SVM Test accuracy : {multiclass_svm_test_accuracy * 100}%\")"
   ]
  },
  {
   "cell_type": "markdown",
   "id": "090e69ba",
   "metadata": {},
   "source": [
    "# IV. Neural Networks"
   ]
  },
  {
   "cell_type": "markdown",
   "id": "8c45f4dd",
   "metadata": {},
   "source": [
    "### A) Stochastic with One Hidden Layer"
   ]
  },
  {
   "cell_type": "code",
   "execution_count": 79,
   "id": "2794043d",
   "metadata": {},
   "outputs": [],
   "source": [
    "mlp_1 = MLPClassifier(\n",
    "    activation=\"relu\",\n",
    "    solver='sgd',\n",
    "    alpha=1e-5,\n",
    "    hidden_layer_sizes=(10),\n",
    "    random_state=1,\n",
    "    max_iter=5000,\n",
    ")"
   ]
  },
  {
   "cell_type": "code",
   "execution_count": null,
   "id": "5b8d1e7c",
   "metadata": {},
   "outputs": [],
   "source": [
    "mlp_1.fit(X_train, Y_train)"
   ]
  },
  {
   "cell_type": "code",
   "execution_count": 83,
   "id": "82167f7a",
   "metadata": {},
   "outputs": [
    {
     "name": "stdout",
     "output_type": "stream",
     "text": [
      " First MLP - Train Accuracy:99.86%\n"
     ]
    }
   ],
   "source": [
    "mlp_1_train_acc = round(\n",
    "    (Y_train == mlp_1.predict(X_train)).mean(),\n",
    "    5\n",
    ")\n",
    "print(f\" First MLP - Train Accuracy:{mlp_1_train_acc * 100}%\")"
   ]
  },
  {
   "cell_type": "code",
   "execution_count": 84,
   "id": "38872e10",
   "metadata": {},
   "outputs": [
    {
     "name": "stdout",
     "output_type": "stream",
     "text": [
      " First MLP - Test Accuracy:67.728%\n"
     ]
    }
   ],
   "source": [
    "mlp_1_test_acc = round(\n",
    "    (Y_test == mlp_1.predict(X_test)).mean(),\n",
    "    5\n",
    ")\n",
    "print(f\" First MLP - Test Accuracy:{mlp_1_test_acc * 100}%\")"
   ]
  },
  {
   "cell_type": "markdown",
   "id": "e16352f3",
   "metadata": {},
   "source": [
    "### B) Mini Batch with 2 Hidden Layers and Scaled Data"
   ]
  },
  {
   "cell_type": "code",
   "execution_count": 89,
   "id": "73be6aec",
   "metadata": {},
   "outputs": [],
   "source": [
    "mlp_2 = MLPClassifier(\n",
    "    activation=\"relu\",\n",
    "    solver='sgd',\n",
    "    alpha=1e-5,\n",
    "    hidden_layer_sizes=(100, 10),\n",
    "    random_state=1,\n",
    "    max_iter=2000,\n",
    "    batch_size=10\n",
    ")"
   ]
  },
  {
   "cell_type": "code",
   "execution_count": 94,
   "id": "91be42d1",
   "metadata": {},
   "outputs": [
    {
     "data": {
      "text/plain": [
       "MLPClassifier(alpha=1e-05, batch_size=10, hidden_layer_sizes=(100, 10),\n",
       "              max_iter=2000, random_state=1, solver='sgd')"
      ]
     },
     "execution_count": 94,
     "metadata": {},
     "output_type": "execute_result"
    }
   ],
   "source": [
    "mlp_2.fit(X_train_scaled, Y_train)"
   ]
  },
  {
   "cell_type": "code",
   "execution_count": 95,
   "id": "6d5b9f88",
   "metadata": {},
   "outputs": [
    {
     "name": "stdout",
     "output_type": "stream",
     "text": [
      " Second MLP - Train Accuracy:99.89099999999999%\n"
     ]
    }
   ],
   "source": [
    "mlp_2_train_acc = round(\n",
    "    (Y_train == mlp_2.predict(X_train_scaled)).mean(),\n",
    "    5\n",
    ")\n",
    "print(f\" Second MLP - Train Accuracy:{mlp_2_train_acc * 100}%\")"
   ]
  },
  {
   "cell_type": "code",
   "execution_count": 96,
   "id": "5ee97c4a",
   "metadata": {},
   "outputs": [
    {
     "name": "stdout",
     "output_type": "stream",
     "text": [
      " Second MLP - Test Accuracy:66.355%\n"
     ]
    }
   ],
   "source": [
    "mlp_2_test_acc = round(\n",
    "    (Y_test == mlp_2.predict(X_test_scaled)).mean(),\n",
    "    5\n",
    ")\n",
    "print(f\" Second MLP - Test Accuracy:{mlp_2_test_acc * 100}%\")"
   ]
  },
  {
   "cell_type": "markdown",
   "id": "21503c28",
   "metadata": {},
   "source": [
    "# V. Accuracy Recap"
   ]
  },
  {
   "cell_type": "code",
   "execution_count": 118,
   "id": "0414a7ba",
   "metadata": {},
   "outputs": [],
   "source": [
    "train_accs = [\n",
    "    logreg_train_accuracy,\n",
    "    linear_svm_train_accuracy,\n",
    "    multiclass_svm_train_accuracy,\n",
    "    mlp_1_train_acc,\n",
    "    mlp_2_train_acc\n",
    "]\n",
    "train_accs = [x*100 for x in train_accs]\n",
    "    \n",
    "test_accs = [\n",
    "    logreg_test_accuracy,\n",
    "    linear_svm_test_accuracy,\n",
    "    multiclass_svm_test_accuracy,\n",
    "    mlp_1_test_acc,\n",
    "    mlp_2_test_acc\n",
    "]\n",
    "test_accs = [x*100 for x in test_accs]\n",
    "\n",
    "model_names = [\n",
    "    \"Logistic Regression\",\n",
    "    \"Linear SVM\",\n",
    "    \"Multiclass SVM\",\n",
    "    \"MLP - 1 Layer\",\n",
    "    \"MLP - Minibatch 2 Layers\"\n",
    "]\n",
    "\n",
    "index_ = [\"Train Accuracies\", \"Test Accuracies\"]"
   ]
  },
  {
   "cell_type": "code",
   "execution_count": 119,
   "id": "8a51f664",
   "metadata": {
    "scrolled": true
   },
   "outputs": [
    {
     "data": {
      "text/html": [
       "<div>\n",
       "<style scoped>\n",
       "    .dataframe tbody tr th:only-of-type {\n",
       "        vertical-align: middle;\n",
       "    }\n",
       "\n",
       "    .dataframe tbody tr th {\n",
       "        vertical-align: top;\n",
       "    }\n",
       "\n",
       "    .dataframe thead th {\n",
       "        text-align: right;\n",
       "    }\n",
       "</style>\n",
       "<table border=\"1\" class=\"dataframe\">\n",
       "  <thead>\n",
       "    <tr style=\"text-align: right;\">\n",
       "      <th></th>\n",
       "      <th>Logistic Regression</th>\n",
       "      <th>Linear SVM</th>\n",
       "      <th>Multiclass SVM</th>\n",
       "      <th>MLP - 1 Layer</th>\n",
       "      <th>MLP - Minibatch 2 Layers</th>\n",
       "    </tr>\n",
       "  </thead>\n",
       "  <tbody>\n",
       "    <tr>\n",
       "      <th>Train Accuracies</th>\n",
       "      <td>92.906</td>\n",
       "      <td>95.104</td>\n",
       "      <td>73.729</td>\n",
       "      <td>99.860</td>\n",
       "      <td>99.891</td>\n",
       "    </tr>\n",
       "    <tr>\n",
       "      <th>Test Accuracies</th>\n",
       "      <td>69.476</td>\n",
       "      <td>66.167</td>\n",
       "      <td>69.101</td>\n",
       "      <td>67.728</td>\n",
       "      <td>66.355</td>\n",
       "    </tr>\n",
       "  </tbody>\n",
       "</table>\n",
       "</div>"
      ],
      "text/plain": [
       "                  Logistic Regression  Linear SVM  Multiclass SVM  \\\n",
       "Train Accuracies               92.906      95.104          73.729   \n",
       "Test Accuracies                69.476      66.167          69.101   \n",
       "\n",
       "                  MLP - 1 Layer  MLP - Minibatch 2 Layers  \n",
       "Train Accuracies         99.860                    99.891  \n",
       "Test Accuracies          67.728                    66.355  "
      ]
     },
     "execution_count": 119,
     "metadata": {},
     "output_type": "execute_result"
    }
   ],
   "source": [
    "pd.DataFrame([train_accs, test_accs], columns=model_names).rename(index={0:'Train Accuracies', 1:'Test Accuracies'})"
   ]
  },
  {
   "cell_type": "markdown",
   "id": "229cf0b9",
   "metadata": {},
   "source": [
    "# VI. Confusion Matrix - Logistic Regression"
   ]
  },
  {
   "cell_type": "code",
   "execution_count": 150,
   "id": "f63df87c",
   "metadata": {},
   "outputs": [],
   "source": [
    "def conf_mat(X, Y):\n",
    "    labels = [int(x) for x in logreg_test_predictions]\n",
    "    Y = [int(x) for x in Y]\n",
    "    conf_matrix = np.zeros((8, 8))\n",
    "\n",
    "    for i in range(X.shape[0]):\n",
    "        conf_matrix[Y[i], labels[i]] += 1\n",
    "\n",
    "    conf_matrix = conf_matrix / conf_matrix.sum(1, keepdims=True)\n",
    "    \n",
    "    return conf_matrix"
   ]
  },
  {
   "cell_type": "code",
   "execution_count": 185,
   "id": "7b687f7c",
   "metadata": {},
   "outputs": [],
   "source": [
    "classes = [\"American\", \"Asian\", \"French\", \"Indian\", \"Italian\", \"Jewish\", \"Mexican\", \"Middle_Eastern\"]\n",
    "confusion_matrix = conf_mat(X_test, Y_test)"
   ]
  },
  {
   "cell_type": "code",
   "execution_count": 188,
   "id": "9d08245c",
   "metadata": {
    "scrolled": false
   },
   "outputs": [
    {
     "name": "stdout",
     "output_type": "stream",
     "text": [
      "                          Confusion Matrix - Logistic Regression                          \n",
      "\n",
      "\n",
      "                 Amer       Asia       Fren       Indi       Ital       Jewi       Mexi       Midd\n",
      "\n",
      "       American   0.537      0.053      0.147      0.023      0.137      0.040      0.053      0.010      \n",
      "\n",
      "          Asian   0.038      0.840      0.017      0.035      0.017      0.017      0.024      0.010      \n",
      "\n",
      "         French   0.170      0.030      0.567      0.007      0.144      0.044      0.019      0.019      \n",
      "\n",
      "         Indian   0.080      0.080      0.068      0.625      0.011      0.023      0.023      0.091      \n",
      "\n",
      "        Italian   0.090      0.023      0.100      0.003      0.720      0.030      0.023      0.010      \n",
      "\n",
      "         Jewish   0.073      0.012      0.134      0.024      0.110      0.500      0.049      0.098      \n",
      "\n",
      "        Mexican   0.068      0.037      0.042      0.010      0.031      0.005      0.791      0.016      \n",
      "\n",
      " Middle_Eastern   0.060      0.108      0.084      0.108      0.036      0.024      0.036      0.542      \n",
      "\n"
     ]
    }
   ],
   "source": [
    "print(\"Confusion Matrix - Logistic Regression\".center(90))\n",
    "print()\n",
    "print()\n",
    "\n",
    "print(\" \" * 10, end=\"\")\n",
    "\n",
    "for j in range(8):\n",
    "    print(\"%11s\" % classes[j][:4], end=\"\")\n",
    "print()\n",
    "print()\n",
    "\n",
    "for i in range(8):\n",
    "    print(\"%15s\" % classes[i], end=\"   \")\n",
    "    \n",
    "    for j in range(8):\n",
    "        print(\"%.3f\" % confusion_matrix[i, j], end=\"      \")\n",
    "    print()\n",
    "    \n",
    "    print()"
   ]
  },
  {
   "cell_type": "markdown",
   "id": "b900de7e",
   "metadata": {},
   "source": [
    "### Heatmap "
   ]
  },
  {
   "cell_type": "code",
   "execution_count": 192,
   "id": "356d0677",
   "metadata": {},
   "outputs": [],
   "source": [
    "def heatmapper(conf_mat, title):\n",
    "    plt.figure(figsize=(10, 5))\n",
    "    sn.set(font_scale=1)\n",
    "\n",
    "    sn.heatmap(\n",
    "        conf_mat,\n",
    "        annot=True,\n",
    "        annot_kws={\"size\": 15},\n",
    "        xticklabels=classes,\n",
    "        yticklabels=classes,\n",
    "        cmap=\"Blues\"\n",
    "    )\n",
    "\n",
    "    plt.title(title)"
   ]
  },
  {
   "cell_type": "code",
   "execution_count": 196,
   "id": "766f8e02",
   "metadata": {},
   "outputs": [
    {
     "data": {
      "image/png": "[encoded data removed]",
      "text/plain": [
       "<Figure size 720x360 with 2 Axes>"
      ]
     },
     "metadata": {
      "needs_background": "light"
     },
     "output_type": "display_data"
    }
   ],
   "source": [
    "df_cm = pd.DataFrame(confusion_matrix*100)\n",
    "heatmapper(df_cm, \"Confusion Matrix - Logistic Regression\")"
   ]
  },
  {
   "cell_type": "markdown",
   "id": "20bfde05",
   "metadata": {},
   "source": [
    "# VII. Weight Analysis"
   ]
  },
  {
   "cell_type": "code",
   "execution_count": 220,
   "id": "9bd52dba",
   "metadata": {},
   "outputs": [],
   "source": [
    "f = open(\"vocabulary.txt\", encoding=\"utf-8\")\n",
    "vocabulary = f.read().split()\n",
    "f.close()"
   ]
  },
  {
   "cell_type": "code",
   "execution_count": 253,
   "id": "d82a5481",
   "metadata": {},
   "outputs": [
    {
     "data": {
      "text/html": [
       "<div>\n",
       "<style scoped>\n",
       "    .dataframe tbody tr th:only-of-type {\n",
       "        vertical-align: middle;\n",
       "    }\n",
       "\n",
       "    .dataframe tbody tr th {\n",
       "        vertical-align: top;\n",
       "    }\n",
       "\n",
       "    .dataframe thead th {\n",
       "        text-align: right;\n",
       "    }\n",
       "</style>\n",
       "<table border=\"1\" class=\"dataframe\">\n",
       "  <thead>\n",
       "    <tr style=\"text-align: right;\">\n",
       "      <th></th>\n",
       "      <th>American</th>\n",
       "      <th>Asian</th>\n",
       "      <th>French</th>\n",
       "      <th>Indian</th>\n",
       "      <th>Italian</th>\n",
       "      <th>Jewish</th>\n",
       "      <th>Mexican</th>\n",
       "      <th>Middle_Eastern</th>\n",
       "    </tr>\n",
       "  </thead>\n",
       "  <tbody>\n",
       "    <tr>\n",
       "      <th>cup</th>\n",
       "      <td>0.018698</td>\n",
       "      <td>-0.044975</td>\n",
       "      <td>-0.066431</td>\n",
       "      <td>-0.034448</td>\n",
       "      <td>0.006067</td>\n",
       "      <td>-0.006990</td>\n",
       "      <td>-0.002449</td>\n",
       "      <td>0.008333</td>\n",
       "    </tr>\n",
       "    <tr>\n",
       "      <th>tablespoon</th>\n",
       "      <td>-0.011065</td>\n",
       "      <td>0.034418</td>\n",
       "      <td>0.007987</td>\n",
       "      <td>-0.037745</td>\n",
       "      <td>-0.019882</td>\n",
       "      <td>0.006689</td>\n",
       "      <td>-0.044416</td>\n",
       "      <td>-0.004461</td>\n",
       "    </tr>\n",
       "  </tbody>\n",
       "</table>\n",
       "</div>"
      ],
      "text/plain": [
       "            American     Asian    French    Indian   Italian    Jewish  \\\n",
       "cup         0.018698 -0.044975 -0.066431 -0.034448  0.006067 -0.006990   \n",
       "tablespoon -0.011065  0.034418  0.007987 -0.037745 -0.019882  0.006689   \n",
       "\n",
       "             Mexican  Middle_Eastern  \n",
       "cup        -0.002449        0.008333  \n",
       "tablespoon -0.044416       -0.004461  "
      ]
     },
     "execution_count": 253,
     "metadata": {},
     "output_type": "execute_result"
    }
   ],
   "source": [
    "pd.DataFrame(\n",
    "    [multi_svm_w[0], multi_svm_w[1]],\n",
    "    columns=classes\n",
    ").rename(index={0:vocabulary[0],1:vocabulary[1]})"
   ]
  },
  {
   "cell_type": "code",
   "execution_count": null,
   "id": "97d545df",
   "metadata": {},
   "outputs": [],
   "source": []
  }
 ],
 "metadata": {
  "kernelspec": {
   "display_name": "Python 3",
   "language": "python",
   "name": "python3"
  },
  "language_info": {
   "codemirror_mode": {
    "name": "ipython",
    "version": 3
   },
   "file_extension": ".py",
   "mimetype": "text/x-python",
   "name": "python",
   "nbconvert_exporter": "python",
   "pygments_lexer": "ipython3",
   "version": "3.9.4"
  }
 },
 "nbformat": 4,
 "nbformat_minor": 5
}
